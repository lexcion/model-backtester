{
 "cells": [
  {
   "cell_type": "code",
   "execution_count": 9,
   "metadata": {},
   "outputs": [],
   "source": [
    "import pandas as pd\n",
    "import numpy as np\n",
    "import matplotlib.pyplot as plt\n",
    "import ast\n",
    "import pandas as pd\n",
    "import numpy as np\n",
    "import matplotlib.pyplot as plt\n",
    "from tqdm.notebook import tqdm\n",
    "import ipywidgets as widgets\n",
    "from IPython.display import display\n",
    "import os\n"
   ]
  },
  {
   "cell_type": "code",
   "execution_count": 10,
   "metadata": {},
   "outputs": [
    {
     "name": "stdout",
     "output_type": "stream",
     "text": [
      "File 'cleaned_all.csv' already exists locally.\n",
      "  Period  Clock   Score  Home Odds  Handicap  Away Odds            Status  \\\n",
      "0    4th  03:05  120-92       0.95     -26.5       0.80  Early, Live, Run   \n",
      "1    4th  03:17  117-92       0.76     -23.5       1.00  Early, Live, Run   \n",
      "2    4th  03:31  117-92       0.80     -23.5       0.95  Early, Live, Run   \n",
      "3    4th  03:31  117-92       0.68     -23.5       1.15  Early, Live, Run   \n",
      "4    4th  03:32  117-92       0.90     -23.5       0.83  Early, Live, Run   \n",
      "\n",
      "     Day Update              Type  ... wins_q4_perm  ties_q4_perm  \\\n",
      "0  30-03  16:43  handicap_odds_q4  ...          NaN           NaN   \n",
      "1  30-03  16:43  handicap_odds_q4  ...          NaN           NaN   \n",
      "2  30-03  16:41  handicap_odds_q4  ...          NaN           NaN   \n",
      "3  30-03  16:40  handicap_odds_q4  ...          NaN           NaN   \n",
      "4  30-03  16:40  handicap_odds_q4  ...          NaN           NaN   \n",
      "\n",
      "  losses_q4_perm  Optimal Handicap.1 Handicap Derivatives.1  \\\n",
      "0            NaN                 NaN                    NaN   \n",
      "1            NaN                 NaN                    NaN   \n",
      "2            NaN                 NaN                    NaN   \n",
      "3            NaN                 NaN                    NaN   \n",
      "4            NaN                 NaN                    NaN   \n",
      "\n",
      "  Derivative Quarter Model Home Winrate Model Away Winrate Home EV  Away EV  \n",
      "0                NaN                NaN                NaN     NaN      NaN  \n",
      "1                NaN                NaN                NaN     NaN      NaN  \n",
      "2                NaN                NaN                NaN     NaN      NaN  \n",
      "3                NaN                NaN                NaN     NaN      NaN  \n",
      "4                NaN                NaN                NaN     NaN      NaN  \n",
      "\n",
      "[5 rows x 138 columns]\n"
     ]
    }
   ],
   "source": [
    "import gdown\n",
    "import pandas as pd\n",
    "\n",
    "# File ID from Google Drive\n",
    "file_id = '1eJfCer2tdxDrgINTxhtDk8i4mrJh3ZO7'  # Replace with your actual file ID\n",
    "\n",
    "# Direct download URL\n",
    "direct_link = f'https://drive.google.com/uc?id={file_id}&export=download'\n",
    "\n",
    "# Output filename\n",
    "filename = 'cleaned_all.csv'  # Name the file as you wish\n",
    "\n",
    "\n",
    "# Check if the file exists locally\n",
    "if not os.path.exists(filename):\n",
    "    print(f\"File '{filename}' not found locally. Downloading from Google Drive...\")\n",
    "    \n",
    "    # Download the file using gdown\n",
    "    gdown.download(direct_link, filename, quiet=False)\n",
    "else:\n",
    "    \n",
    "    print(f\"File '{filename}' already exists locally.\")\n",
    "    \n",
    "# Load the CSV into a DataFrame\n",
    "odds_df = pd.read_csv(filename)\n",
    "\n",
    "# Display the first few rows to verify\n",
    "print(odds_df.head())\n"
   ]
  },
  {
   "cell_type": "code",
   "execution_count": 11,
   "metadata": {},
   "outputs": [],
   "source": [
    "def plot_ev_distribution(odds_df, ev_threshold=0.1):\n",
    "    home_ev_mean = odds_df['Home EV'].mean()\n",
    "    home_ev_std = odds_df['Home EV'].std()\n",
    "    away_ev_mean = odds_df['Away EV'].mean()\n",
    "    away_ev_std = odds_df['Away EV'].std()\n",
    "\n",
    "    # Print statistics\n",
    "    print(f\"Home EV Mean: {home_ev_mean:.4f}, Home EV Std Dev: {home_ev_std:.4f}\")\n",
    "    print(f\"Away EV Mean: {away_ev_mean:.4f}, Away EV Std Dev: {away_ev_std:.4f}\")\n",
    "\n",
    "    # Count EV values\n",
    "    home_ev_ge_threshold = np.sum(odds_df['Home EV'] >= ev_threshold)\n",
    "    home_ev_lt_threshold = np.sum(odds_df['Home EV'] < ev_threshold)\n",
    "    away_ev_ge_threshold = np.sum(odds_df['Away EV'] >= ev_threshold)\n",
    "    away_ev_lt_threshold = np.sum(odds_df['Away EV'] < ev_threshold)\n",
    "\n",
    "    print(f\"Home EV >= {ev_threshold}: {home_ev_ge_threshold}, Home EV < {ev_threshold}: {home_ev_lt_threshold}\")\n",
    "    print(f\"Away EV >= {ev_threshold}: {away_ev_ge_threshold}, Away EV < {ev_threshold}: {away_ev_lt_threshold}\")\n",
    "\n",
    "    # Plotting Home EV\n",
    "    plt.figure(figsize=(12, 6))\n",
    "    n, bins, patches = plt.hist(odds_df['Home EV'].dropna(), bins=50, color='gray', edgecolor='black', alpha=0.7)\n",
    "    plt.title('Distribution of Home EV')\n",
    "    plt.xlabel('Home EV')\n",
    "    plt.ylabel('Frequency')\n",
    "\n",
    "    for patch, left_bin_edge in zip(patches, bins[:-1]):\n",
    "        if left_bin_edge >= ev_threshold:\n",
    "            patch.set_facecolor('green')\n",
    "        else:\n",
    "            patch.set_facecolor('red')\n",
    "\n",
    "    plt.show()\n",
    "\n",
    "    # Plotting Away EV\n",
    "    plt.figure(figsize=(12, 6))\n",
    "    n, bins, patches = plt.hist(odds_df['Away EV'].dropna(), bins=50, color='gray', edgecolor='black', alpha=0.7)\n",
    "    plt.title('Distribution of Away EV')\n",
    "    plt.xlabel('Away EV')\n",
    "    plt.ylabel('Frequency')\n",
    "\n",
    "    for patch, left_bin_edge in zip(patches, bins[:-1]):\n",
    "        if left_bin_edge >= ev_threshold:\n",
    "            patch.set_facecolor('green')\n",
    "        else:\n",
    "            patch.set_facecolor('red')\n",
    "\n",
    "    plt.show()\n"
   ]
  },
  {
   "cell_type": "code",
   "execution_count": 17,
   "metadata": {},
   "outputs": [
    {
     "data": {
      "application/vnd.jupyter.widget-view+json": {
       "model_id": "9fd52958016a4df1aa1011566937eafa",
       "version_major": 2,
       "version_minor": 0
      },
      "text/plain": [
       "interactive(children=(FloatSlider(value=0.0, continuous_update=False, description='EV Threshold:', max=1.0, mi…"
      ]
     },
     "execution_count": 17,
     "metadata": {},
     "output_type": "execute_result"
    }
   ],
   "source": [
    "# Create widgets\n",
    "ev_threshold_slider = widgets.FloatSlider(\n",
    "    value=0,\n",
    "    min=-1.0,\n",
    "    max=1.0,\n",
    "    step=0.01,\n",
    "    description='EV Threshold:',\n",
    "    continuous_update=False\n",
    ")\n",
    "\n",
    "# Function to update the plot based on widget input\n",
    "def update_ev_plot(ev_threshold):\n",
    "    plot_ev_distribution(odds_df, ev_threshold)\n",
    "\n",
    "# Link widget to the function\n",
    "widgets.interactive(update_ev_plot, ev_threshold=ev_threshold_slider)\n"
   ]
  },
  {
   "cell_type": "code",
   "execution_count": 16,
   "metadata": {},
   "outputs": [],
   "source": [
    "# Display the widget\n",
    "#display(ev_threshold_slider)\n",
    "\n",
    "# Display the initial plot\n",
    "#plot_ev_distribution(odds_df, ev_threshold_slider.value)\n"
   ]
  }
 ],
 "metadata": {
  "kernelspec": {
   "display_name": "Python 3",
   "language": "python",
   "name": "python3"
  },
  "language_info": {
   "codemirror_mode": {
    "name": "ipython",
    "version": 3
   },
   "file_extension": ".py",
   "mimetype": "text/x-python",
   "name": "python",
   "nbconvert_exporter": "python",
   "pygments_lexer": "ipython3",
   "version": "3.12.0"
  }
 },
 "nbformat": 4,
 "nbformat_minor": 2
}
